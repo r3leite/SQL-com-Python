{
 "cells": [
  {
   "cell_type": "code",
   "execution_count": null,
   "id": "72fba833",
   "metadata": {},
   "outputs": [],
   "source": [
    "#pip install pyodbc\n",
    "\n",
    "import pandas as pd\n",
    "import pyodbc   \n",
    "\n",
    "server = 'localhost' # Substitui pelo nome do servidor SQL Server\n",
    "database = 'AdventureWorks2019' # Substitui pelo nome do banco de dados\n",
    "conexaoDB = pyodbc.connect('DRIVER={ODBC Driver 17 for SQL Server};'\n",
    "                           f'SERVER={server};'\n",
    "                           f'DATABASE={database};'\n",
    "                           'Trusted_Connection=yes;')\n",
    "\n",
    "cursor = conexaoDB.cursor() # Cria um cursor para executar comandos SQL"
   ]
  },
  {
   "cell_type": "code",
   "execution_count": null,
   "id": "320a76d0",
   "metadata": {},
   "outputs": [],
   "source": [
    "dados = pd.read_sql('SELECT * FROM Categoria', conexaoDB) # Executa a consulta SQL e armazena o resultado em um DataFrame\n",
    "# Observação: Caso o nome da tabela tenha espaços ou caracteres especiais, use colchetes: [Categoria]\n",
    "dados.head(10) # Exibe as primeiras 10 linhas do DataFrame"
   ]
  },
  {
   "cell_type": "code",
   "execution_count": null,
   "id": "2590afa6",
   "metadata": {},
   "outputs": [],
   "source": [
    "Query = 'SELECT * FROM Categoria'\n",
    "categoria2 = pd.read_sql(Query, conexaoDB) # Executa a consulta SQL e armazena o resultado em um DataFrame\n",
    "categoria2.head(10) # Exibe as primeiras 10 linhas do DataFrame"
   ]
  },
  {
   "cell_type": "code",
   "execution_count": null,
   "id": "0c06b0fd",
   "metadata": {},
   "outputs": [],
   "source": [
    "# Exemplo de consulta SQL com parâmetros\n",
    "Query = '''\n",
    "SELECT * FROM Clientes\n",
    "WHERE State IN ('Acre', 'Mato Grosso', 'Goiás', 'Paraná', 'Rio Grande do Sul') \n",
    "AND first_name IN ('Ana', 'João', 'Maria', 'José', 'Carlos')\n",
    "'''\n",
    "ClientesEspecificos = pd.read_sql(Query, conexaoDB) # Executa a consulta SQL e armazena o resultado em um DataFrame\n",
    "display(ClientesEspecificos)"
   ]
  }
 ],
 "metadata": {
  "language_info": {
   "name": "python"
  }
 },
 "nbformat": 4,
 "nbformat_minor": 5
}
