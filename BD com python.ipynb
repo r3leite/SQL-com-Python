{
 "cells": [
  {
   "cell_type": "markdown",
   "id": "e7eb275c",
   "metadata": {},
   "source": [
    "Conexão Local ao Banco de Dados SQL Server"
   ]
  },
  {
   "cell_type": "code",
   "execution_count": null,
   "id": "a84330c4",
   "metadata": {},
   "outputs": [],
   "source": [
    "#pip install pyodbc\n",
    "\n",
    "import pandas as pd\n",
    "import pyodbc   \n",
    "\n",
    "server = 'localhost' # Substitui pelo nome do servidor SQL Server\n",
    "database = 'AdventureWorks2019' # Substitui pelo nome do banco de dados\n",
    "conexaoDB = pyodbc.connect('DRIVER={ODBC Driver 17 for SQL Server};'\n",
    "                           f'SERVER={server};'\n",
    "                           f'DATABASE={database};'\n",
    "                           'Trusted_Connection=yes;')\n",
    "\n",
    "cursor = conexaoDB.cursor() # Cria um cursor para executar comandos SQL"
   ]
  },
  {
   "cell_type": "markdown",
   "id": "88437a72",
   "metadata": {},
   "source": [
    "Conexão com Senha ao Banco de Dados SQL Server"
   ]
  },
  {
   "cell_type": "code",
   "execution_count": null,
   "id": "aaa0aaf3",
   "metadata": {},
   "outputs": [],
   "source": [
    "\"\"\"\n",
    "import pandas as pd\n",
    "import pyodbc   \n",
    "\n",
    "server = 'localhost' # Substitui pelo nome do servidor SQL Server\n",
    "database = 'AdventureWorks2019' # Substitui pelo nome do banco de dados\n",
    "conexaoDB = pyodbc.connect('DRIVER={ODBC Driver 17 for SQL Server};'\n",
    "                           f'SERVER={server};'\n",
    "                           f'DATABASE={database};'\n",
    "                           f'usuario=;' # Substitui pelo nome de usuário, se necessário\n",
    "                           f'senha=;' # Substitui pela senha, se necessário\n",
    "                           'Trusted_Connection=yes;')\n",
    "\n",
    "cursor = conexaoDB.cursor() # Cria um cursor para executar comandos SQL\n",
    "\n",
    "\n",
    "\"\"\""
   ]
  },
  {
   "cell_type": "code",
   "execution_count": null,
   "id": "8249d722",
   "metadata": {},
   "outputs": [],
   "source": [
    "dados = pd.read_excel('dados.xlsx') # Lê os dados do arquivo Excel, substitua pelo caminho correto do arquivo\n",
    "dados.head(10) # Exibe as primeiras 10 linhas do DataFrame"
   ]
  },
  {
   "cell_type": "code",
   "execution_count": null,
   "id": "da15081a",
   "metadata": {},
   "outputs": [],
   "source": [
    "dados.columns # Exibe os nomes das colunas do DataFrame"
   ]
  },
  {
   "cell_type": "code",
   "execution_count": null,
   "id": "e2fa9176",
   "metadata": {},
   "outputs": [],
   "source": [
    "str(dados.columns).replace(\"'\",\"\") # Exibe os nomes das colunas do DataFrame sem aspas simples"
   ]
  },
  {
   "cell_type": "code",
   "execution_count": null,
   "id": "69c939f0",
   "metadata": {},
   "outputs": [],
   "source": [
    "# Exibe os tipos de dados de cada coluna do DataFrame\n",
    "dados.dtypes # Exibe os tipos de dados de cada coluna do DataFrame"
   ]
  },
  {
   "cell_type": "code",
   "execution_count": null,
   "id": "7b926985",
   "metadata": {},
   "outputs": [],
   "source": [
    "#Conversão de dados\n",
    "#df['Nome'] =df.Nome.astype(str) # Converte a coluna 'Nome' para o tipo string\n",
    "dados['total_price'] = dados['total_price'].astype(float) # Converte a coluna 'total_price' para o tipo float\n",
    "\n",
    "dados['create_at'] = pd.to_datetime(dados['created_at']) # Converte a coluna para o formato de data e hora\n",
    "dados['email'] = dados['email'].fillna('Sem Registro') # Preenche os dados Nan \n"
   ]
  },
  {
   "cell_type": "markdown",
   "id": "22fb7f35",
   "metadata": {},
   "source": [
    "Inserindo DataFrame no Banco"
   ]
  },
  {
   "cell_type": "code",
   "execution_count": null,
   "id": "0dfe8421",
   "metadata": {},
   "outputs": [],
   "source": [
    "cursor.execute('truncate table Produtos') # Limpa a tabela Produtos\n",
    "cursor.commit() # Confirma a transação no banco de dados"
   ]
  },
  {
   "cell_type": "code",
   "execution_count": null,
   "id": "48859ae1",
   "metadata": {},
   "outputs": [],
   "source": [
    "for index, linha in dados.iterrows():\n",
    "\n",
    "    cursor.execute(\"Inset into [Produtos](ID,Nome,Price,Id_Category)values(?,?,?,?)\",\n",
    "                   linha['ID'], linha['Nome'], linha['Price'], linha['Id_Category']) # Insere os dados no banco de dados usando o cursor\n",
    "conexaoDB.commit() # Confirma a transação no banco de dados\n",
    "cursor.close() # Fecha o cursor após a inserção\n",
    "conexaoDB.close() # Fecha a conexão com o banco de dados"
   ]
  },
  {
   "cell_type": "code",
   "execution_count": null,
   "id": "1ed03de9",
   "metadata": {},
   "outputs": [],
   "source": [
    "# Tratando os tipos de Dados quando tem caracteres especiais (acentos)\n",
    "for index, linha in dados.iterrows():\n",
    "    linha.Email = str(linha.Email) # Converte o valor da coluna Email para string antes da inserção\n",
    "    cursor.execute(\"Inset into [Produtos](ID,Nome,Price,Id_Category,Email)values(?,?,?,?,?)\",\n",
    "                   linha['ID'], linha['Nome'], linha['Price'], linha['Id_Category'], linha['Email']) # Insere os dados no banco de dados usando o cursor\n",
    "conexaoDB.commit() # Confirma a transação no banco de dados\n",
    "cursor.close() # Fecha o cursor após a inserção\n",
    "conexaoDB.close() # Fecha a conexão com o banco de dados"
   ]
  }
 ],
 "metadata": {
  "language_info": {
   "name": "python"
  }
 },
 "nbformat": 4,
 "nbformat_minor": 5
}
