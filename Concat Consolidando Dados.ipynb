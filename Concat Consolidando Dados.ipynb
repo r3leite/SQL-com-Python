{
 "cells": [
  {
   "cell_type": "code",
   "execution_count": null,
   "id": "7db148bb",
   "metadata": {},
   "outputs": [],
   "source": [
    "import pandas as pd\n",
    "import os"
   ]
  },
  {
   "cell_type": "code",
   "execution_count": null,
   "id": "37b34b48",
   "metadata": {},
   "outputs": [],
   "source": [
    "vendas2021 = pd.read_excel(r\"caminho do arquivo\")\n",
    "vendas2022 = pd.read_excel(r\"caminho do arquivo\")\n",
    "vendas2023 = pd.read_excel(r\"caminho do arquivo\")\n"
   ]
  },
  {
   "cell_type": "code",
   "execution_count": null,
   "id": "8b8339c8",
   "metadata": {},
   "outputs": [],
   "source": [
    "Consolidado = pd.concat([vendas2021, vendas2022, vendas2023]) # com índice\n",
    "# Consolidado = pd.concat([vendas2021, vendas2022, vendas2023], ignore_index=True) # sem índice\n",
    "# Consolidado = pd.concat([vendas2021, vendas2022, vendas2023], keys=['2021', '2022', '2023']) # identificando tabelas\n"
   ]
  },
  {
   "cell_type": "code",
   "execution_count": null,
   "id": "67258323",
   "metadata": {},
   "outputs": [],
   "source": [
    "# Caminho da pasta onde o arquivo Excel será salvo\n",
    "pasta_destino = r\"caminho da pasta de destino\"\n",
    "\n",
    "# Nome do arquivo Excel\n",
    "nome_arquivo = \"Consolidado_Vendas.xlsx\"\n",
    "\n",
    "# Lista para armazenar os dados dos arquivos\n",
    "dados = []\n",
    "\n",
    "# Caminho completo do arquivo\n",
    "#caminho_arquivo = os.path.join(pasta_destino, nome_arquivo)\n",
    "caminho_completo = pasta_destino + nome_arquivo \n",
    "\n",
    "if os.path.exists(caminho_completo):\n",
    "    # Carregar o arquivo Excel consolidado existente em um DataFrame\n",
    "    df_existente = pd.read_excel(caminho_completo)\n",
    "    # Adicionar os dados existentes ao DataFrame consolidado\n",
    "    dados.append(df_existente)\n",
    "\n",
    "\n",
    "# Salvar o DataFrame consolidado em um arquivo Excel\n",
    "Consolidado.to_excel(caminho_completo, index=False)"
   ]
  },
  {
   "cell_type": "markdown",
   "id": "4a4d61d4",
   "metadata": {},
   "source": [
    "Nome de Arquivos"
   ]
  },
  {
   "cell_type": "code",
   "execution_count": null,
   "id": "33cce84c",
   "metadata": {},
   "outputs": [],
   "source": [
    "import pandas as pd\n",
    "import os\n",
    "\n",
    "vendas2021 = r\"caminho do arquivo\"\n",
    "vendas2022 = r\"caminho do arquivo\"\n",
    "vendas2023 = r\"caminho do arquivo\""
   ]
  },
  {
   "cell_type": "code",
   "execution_count": null,
   "id": "9dd11a72",
   "metadata": {},
   "outputs": [],
   "source": [
    "df2021 = pd.read_excel(r\"caminho do arquivo\")\n",
    "df2022 = pd.read_excel(r\"caminho do arquivo\")\n",
    "df2023 = pd.read_excel(r\"caminho do arquivo\")"
   ]
  },
  {
   "cell_type": "code",
   "execution_count": null,
   "id": "3396f5b5",
   "metadata": {},
   "outputs": [],
   "source": [
    "# Extrai o nome do arquivo sem o caminho e a extensão usando o módulo os\n",
    "nome_arquivo_2021 = os.path.splitext(os.path.basename(vendas2021))[0]\n",
    "\n",
    "# Adiciona uma nova coluna com o nome do arquivo\n",
    "df2021['Nme do Arquivo'] = nome_arquivo_2021"
   ]
  },
  {
   "cell_type": "code",
   "execution_count": null,
   "id": "7cbd4b4d",
   "metadata": {},
   "outputs": [],
   "source": [
    "consolidado2 = pd.concat([df2021, df2022, df2023])\n"
   ]
  }
 ],
 "metadata": {
  "language_info": {
   "name": "python"
  }
 },
 "nbformat": 4,
 "nbformat_minor": 5
}
