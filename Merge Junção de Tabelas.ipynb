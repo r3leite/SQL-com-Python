{
 "cells": [
  {
   "cell_type": "code",
   "execution_count": null,
   "id": "9c30a284",
   "metadata": {},
   "outputs": [],
   "source": [
    "import pandas as pd\n",
    "import pyodbc   "
   ]
  },
  {
   "cell_type": "code",
   "execution_count": null,
   "id": "d4179636",
   "metadata": {},
   "outputs": [],
   "source": [
    "Produto = pd.read_excel('dados.xlsx')\n",
    "Categoria = pd.read_excel('dados.xlsx')\n",
    "Cliente = pd.read_excel('dados.xlsx')"
   ]
  },
  {
   "cell_type": "code",
   "execution_count": null,
   "id": "621fdf7f",
   "metadata": {},
   "outputs": [],
   "source": [
    "T1 = pd.merge(Produto, Categoria, left_on='id', right_on='id', how='left')\n",
    "\n",
    "# Left_on Chave da tabela da esquerda\n",
    "# Right_on Chave da tabela da direita\n",
    "# How Tipo de junção (left, right, inner, outer)\n",
    "\n",
    "# Tipos de junção:\n",
    "# Left: Retorna todos os registros da tabela da esquerda e os correspondentes da tabela da direita.\n",
    "# Right: Retorna todos os registros da tabela da direita e os correspondentes da tabela da esquerda.\n",
    "# Inner: Retorna apenas os registros que têm correspondência em ambas as tabelas.\n",
    "# Outer: Retorna todos os registros de ambas as tabelas, preenchendo com NaN onde não houver correspondência.\n",
    "\n"
   ]
  },
  {
   "cell_type": "code",
   "execution_count": null,
   "id": "a8e599a5",
   "metadata": {},
   "outputs": [],
   "source": [
    "T1 = T1[[\"id_x\",\"created_at_y\",\"first_name\",\"cell_phone\"]] # Seleciona colunas específicas\n",
    "T1.head(10)"
   ]
  }
 ],
 "metadata": {
  "kernelspec": {
   "display_name": "Python 3",
   "language": "python",
   "name": "python3"
  },
  "language_info": {
   "name": "python",
   "version": "3.13.3"
  }
 },
 "nbformat": 4,
 "nbformat_minor": 5
}
